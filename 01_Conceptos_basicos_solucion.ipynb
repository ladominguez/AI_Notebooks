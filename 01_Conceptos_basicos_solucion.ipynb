{
 "cells": [
  {
   "cell_type": "code",
   "execution_count": 10,
   "id": "c478474a",
   "metadata": {},
   "outputs": [
    {
     "name": "stdout",
     "output_type": "stream",
     "text": [
      "Requirement already satisfied: numpy in /Users/antonio/miniconda3/envs/pytorch/lib/python3.12/site-packages (1.26.4)\r\n"
     ]
    }
   ],
   "source": [
    "!pip install numpy"
   ]
  },
  {
   "cell_type": "markdown",
   "id": "9735920e",
   "metadata": {},
   "source": [
    "## 1 -Crear funciones usando Numpy ##\n",
    "\n",
    "Numpy es un paquete de Python que cuenta con numerosas funciones que permiten realizar todo tipo de operaciones matemáticas. En esta sección vamos a programar la función de activación de tipo sigmoide. \n",
    "\n",
    "### 1.1 - Función sigmoide, np.exp() ###\n",
    "\n",
    "Existen diferentes librerias que permiten realizar difrentes tipos de operaciones matemáticas, por ejemplo la librería math. Sin embargo, algunas funciones de este tipo de librerías\n",
    "\n",
    "**Ejercicio**: Completa la código que permita obtener una función de Python que evalue la función sigmoide para cualquier número real.\n",
    "\n",
    "**Nota*:\n",
    "La función $sigmoid(x) = \\frac{1}{1+e^{-x}}$ es una función que en ocasiones también se conoce como función logística. Es una función no lenear que se utiliza tanto en aprendizaje máquina como en aprendizaje profundo.\n",
    "\n",
    "<img src=\"images/Sigmoid.png\" style=\"width:500px;height:228px;\">\n",
    "**Opcional**\n",
    "Puedes comparar el fucionamiento de la función usando la función de python math.log() en lugar de np.math. math.log() producirá un error en caso de recibir un variable o valor diferente a un número real, por ejemplo, un vector de números reales. \n"
   ]
  },
  {
   "cell_type": "code",
   "execution_count": 2,
   "id": "ca8dea1b",
   "metadata": {},
   "outputs": [],
   "source": [
    "# Función sigmoide\n",
    "\n",
    "\n",
    "import numpy as np\n",
    "\n",
    "def basic_sigmoid(x):\n",
    "    \"\"\"\n",
    "    Calcula la función sigmoide.\n",
    "\n",
    "    Argumentos:\n",
    "    x -- escalar o vector de numpy. \n",
    "\n",
    "    Salida:\n",
    "    s -- sigmoid(x)\n",
    "    \"\"\"\n",
    "    \n",
    "    ### ESCRIBE TU CÓDIGO AQUÍ ### (≈ 1 línea de código)\n",
    "    s = 1/(1+np.exp(-x))\n",
    "    ### FIN ###\n",
    "    \n",
    "    return s"
   ]
  },
  {
   "cell_type": "markdown",
   "id": "b8cde4e6",
   "metadata": {},
   "source": [
    "**Salida esperada:**: \n",
    "<table>\n",
    "    <tr> \n",
    "        <td> **sigmoid([1,2,3])**</td> \n",
    "        <td> array([ 0.73105858,  0.88079708,  0.95257413]) </td> \n",
    "    </tr>\n",
    "</table> \n",
    "Si programaste correctamente la función debes de obtener este resultado cuando se evalua para x = 1, 2, 3."
   ]
  },
  {
   "cell_type": "code",
   "execution_count": 3,
   "id": "82caf0a6",
   "metadata": {},
   "outputs": [
    {
     "data": {
      "text/plain": [
       "array([0.73105858, 0.88079708, 0.95257413])"
      ]
     },
     "execution_count": 3,
     "metadata": {},
     "output_type": "execute_result"
    }
   ],
   "source": [
    "x=np.array([1,2,3])\n",
    "basic_sigmoid(x)"
   ]
  },
  {
   "cell_type": "markdown",
   "id": "02f56292",
   "metadata": {},
   "source": [
    "### 1.2 - Función gradiente\n",
    "\n",
    "Para poder optimizar la función es necesario calcular el gradiente de la función de activación. \n",
    "\n",
    "**Ejercicio**: Implementa la función sigmoid_grad() para calcular el gradiente de la función sigmoide con respecto a la variable x. La formula es  $$sigmoid\\_derivative(x) = \\sigma'(x) = \\sigma(x) (1 - \\sigma(x))\\tag{2}$$\n",
    "Esto se puede hacer en dos pasos:\n",
    "1. Haz la función sigmoide igual a s.\n",
    "2. Calcula $\\sigma'(x) = s(1-s)$.\n",
    "Comprueba analíticamente que la derivada es equivalente. Puedes verificar que tu función trabaje adecuadamente "
   ]
  },
  {
   "cell_type": "code",
   "execution_count": 9,
   "id": "0a00782e",
   "metadata": {},
   "outputs": [],
   "source": [
    "# Derivada de la función sigmoide\n",
    "\n",
    "def sigmoid_derivative(x):\n",
    "    \"\"\"\n",
    "    Calcula el gradiente de la función sigmoide con respecto a su entrada x.\n",
    "    Puedes almacenar la salida de la función sigmoide en variables y luego usarla para calcular el gradiente.\n",
    "\n",
    "    Argumentos:\n",
    "    x -- Un escalar o un arreglo de numpy\n",
    "\n",
    "    Salida:\n",
    "    ds -- gradiente.\n",
    "    \"\"\"\n",
    "    \n",
    "    ### Escribe tu código aquí ### (≈ 2 lines of code)\n",
    "    s = 1/(1+np.exp(-x))\n",
    "    ds = s*(1-s)\n",
    "    ### Fin ###\n",
    "    \n",
    "    return ds"
   ]
  },
  {
   "cell_type": "code",
   "execution_count": 10,
   "id": "5538d949",
   "metadata": {},
   "outputs": [
    {
     "name": "stdout",
     "output_type": "stream",
     "text": [
      "sigmoid_derivative(x) = [0.19661193 0.10499359 0.04517666]\n"
     ]
    }
   ],
   "source": [
    "x = np.array([1, 2, 3])\n",
    "print (f\"sigmoid_derivative(x) = {sigmoid_derivative(x)}\")"
   ]
  },
  {
   "cell_type": "markdown",
   "id": "df31d38c",
   "metadata": {},
   "source": [
    "**Salida esperada**: \n",
    "\n",
    "\n",
    "<table>\n",
    "    <tr> \n",
    "        <td> **sigmoid_derivative([1,2,3])**</td> \n",
    "        <td> [ 0.19661193  0.10499359  0.04517666] </td> \n",
    "    </tr>\n",
    "</table> "
   ]
  },
  {
   "cell_type": "markdown",
   "id": "33bd0a8e",
   "metadata": {},
   "source": [
    "### 1.3 - Cambio de dimensiones ###\n",
    "\n",
    "Dos funciones comunmente usadas en aprendizaje profundo son  [np.shape](https://docs.scipy.org/doc/numpy/reference/generated/numpy.ndarray.shape.html) y [np.reshape()](https://docs.scipy.org/doc/numpy/reference/generated/numpy.reshape.html).\n",
    "- X.shape es usado para obtener las dimensiones de una matriz o vector.\n",
    "- X.reshape() se usa para cambiar las dimensiones. \n",
    "\n",
    "\n",
    "Por ejemplo, una imagen se representa por un arreglo tridimensional de dimensiones iguales a $(longitudm alto, profundidad = 3)$. Sin embargo, cuando se lee una imagen como la entrada de un algoritmo se convierte a un vector de dimensiones $(length*height*3, 1)$. En otras palabras, se convierte un tensor tridimensiones en un vector unidimensional.\n",
    "\n",
    "<img src=\"images/image2vector_kiank.png\" style=\"width:500px;height:300;\">\n",
    "\n",
    "**Ejercicio**: Implementa la función `image2vector()` que toma una variable de entrada con dimensiones (largo, alto, 3) y regresa un vector con dimensiones (largo\\*alto\\*3, 1). Por ejemplo, si quieres redimensionar el arreglo v con dimensiones (a, b, c) en un vector de dimensiones (a*b, c) harías lo siguiente:\n",
    "``` python\n",
    "v = v.reshape((v.shape[0]*v.shape[1], v.shape[2])) # v.shape[0] = a ; v.shape[1] = b ; v.shape[2] = c\n",
    "```\n",
    "- No se recomienda insertar los valores de las dimensiones directamente, ya que esto hace que tu código pierda generalidad y falle en caso de que las dimensiones cambien incluso solo por un dígito. "
   ]
  },
  {
   "cell_type": "code",
   "execution_count": 11,
   "id": "f09bc25d",
   "metadata": {},
   "outputs": [],
   "source": [
    "\n",
    "def image2vector(image):\n",
    "    \"\"\"\n",
    "    Argumentos:\n",
    "    imagen -- un arreglo de numpy con dimensiones (largo, alto, profundidad)\n",
    "    \n",
    "    Salida:\n",
    "    v -- Un vector con dimensiones (largo*alto*profundidad, 1)\n",
    "    \"\"\"\n",
    "    \n",
    "    ### Escribe tu código aquí ### (≈ 1 linea de código)\n",
    "    \n",
    "    v = image.reshape((image.shape[0]*image.shape[1]*image.shape[2]),1)\n",
    "    ### Fin ###\n",
    "    \n",
    "    return v"
   ]
  },
  {
   "cell_type": "code",
   "execution_count": 12,
   "id": "f3ce4552",
   "metadata": {},
   "outputs": [
    {
     "name": "stdout",
     "output_type": "stream",
     "text": [
      "(3, 3, 2)\n",
      "(18, 1)\n",
      "image2vector(image) = [[0.67826139]\n",
      " [0.29380381]\n",
      " [0.90714982]\n",
      " [0.52835647]\n",
      " [0.4215251 ]\n",
      " [0.45017551]\n",
      " [0.92814219]\n",
      " [0.96677647]\n",
      " [0.85304703]\n",
      " [0.52351845]\n",
      " [0.19981397]\n",
      " [0.27417313]\n",
      " [0.60659855]\n",
      " [0.00533165]\n",
      " [0.10820313]\n",
      " [0.49978937]\n",
      " [0.34144279]\n",
      " [0.94630077]]\n"
     ]
    }
   ],
   "source": [
    "# Este es un arreglo de 3x3x2, típicamente las imágnees tendrán dimensiones de (num_px_x, num_px_y,3) donde 3 representa los valores de (rojo, verde y azúl). \n",
    "\n",
    "image = np.array([[[ 0.67826139,  0.29380381],\n",
    "        [ 0.90714982,  0.52835647],\n",
    "        [ 0.4215251 ,  0.45017551]],\n",
    "\n",
    "       [[ 0.92814219,  0.96677647],\n",
    "        [ 0.85304703,  0.52351845],\n",
    "        [ 0.19981397,  0.27417313]],\n",
    "\n",
    "       [[ 0.60659855,  0.00533165],\n",
    "        [ 0.10820313,  0.49978937],\n",
    "        [ 0.34144279,  0.94630077]]])\n",
    "print(image.shape)\n",
    "vv=image2vector(image)\n",
    "print(vv.shape)\n",
    "print (\"image2vector(image) = \" + str(image2vector(image)))"
   ]
  },
  {
   "cell_type": "markdown",
   "id": "974524db",
   "metadata": {},
   "source": [
    "**Salida esperada**: \n",
    "\n",
    "\n",
    "<table style=\"width:100%\">\n",
    "     <tr> \n",
    "       <td> **image2vector(image)** </td> \n",
    "       <td> [[ 0.67826139]\n",
    " [ 0.29380381]\n",
    " [ 0.90714982]\n",
    " [ 0.52835647]\n",
    " [ 0.4215251 ]\n",
    " [ 0.45017551]\n",
    " [ 0.92814219]\n",
    " [ 0.96677647]\n",
    " [ 0.85304703]\n",
    " [ 0.52351845]\n",
    " [ 0.19981397]\n",
    " [ 0.27417313]\n",
    " [ 0.60659855]\n",
    " [ 0.00533165]\n",
    " [ 0.10820313]\n",
    " [ 0.49978937]\n",
    " [ 0.34144279]\n",
    " [ 0.94630077]]</td> \n",
    "     </tr>\n",
    "    \n",
    "   \n",
    "</table>"
   ]
  },
  {
   "cell_type": "markdown",
   "id": "0fd70866",
   "metadata": {},
   "source": [
    "### 1.4 - Normalización de columnas\n",
    "\n",
    "Otra técnica común en aprendizaje máquina y aprendizaje profundo es la normalización de los datos. Esto permite mejorar el desempeño del gradiente y hacer que converga más rápidamente. En este caso, vamos a dividir cada vector c por su norma $ \\frac{x}{\\| x\\|} $.\n",
    "\n",
    "\n",
    "Por ejemplo, si $$x = \n",
    "\\begin{bmatrix}\n",
    "    0 & 3 & 4 \\\\\n",
    "    2 & 6 & 4 \\\\\n",
    "\\end{bmatrix}\\tag{3}$$ entonces $$\\| x\\| = np.linalg.norm(x, axis = 1, keepdims = True) = \\begin{bmatrix}\n",
    "    5 \\\\\n",
    "    \\sqrt{56} \\\\\n",
    "\\end{bmatrix}\\tag{4} $$y        $$ x\\_normalized = \\frac{x}{\\| x\\|} = \\begin{bmatrix}\n",
    "    0 & \\frac{3}{5} & \\frac{4}{5} \\\\\n",
    "    \\frac{2}{\\sqrt{56}} & \\frac{6}{\\sqrt{56}} & \\frac{4}{\\sqrt{56}} \\\\\n",
    "\\end{bmatrix}\\tag{5}$$ **Nota.** Date cuenta que es posible dividir matrizes de diferente tamaño, esto recibe el nombre de broadcasting. \n",
    "\n",
    "\n",
    "\n",
    "**Ejercicio**: Implementa la función normalizeRows() para normalizar los renglones de una matriz. Después de esto cada renglón debería de representar un vector con longitud unitaria. "
   ]
  },
  {
   "cell_type": "code",
   "execution_count": 16,
   "id": "54dd42ff",
   "metadata": {},
   "outputs": [],
   "source": [
    "def normalizeRows(x):\n",
    "    \"\"\"\n",
    "    Implementa una función que normalice cada renglón de la matriz x. \n",
    "    \n",
    "    Argumento:\n",
    "    x -- Matriz de numpy con dimensiones (n, m)\n",
    "    \n",
    "    Salida:\n",
    "    x -- La matriz de numpy normalizada (por renglón).\n",
    "    \"\"\"\n",
    "    \n",
    "    ### Escribe tu código ### (≈ 2 líneas de código)\n",
    "    # Calcula la norma 2 de x usa np.linalg.norm(..., ord = 2, axis = ..., keepdims = True)\n",
    "    x_norm = np.linalg.norm(x, ord = 2, axis = 1, keepdims = True)\n",
    "    \n",
    "    # Divide x por su norma\n",
    "    x = x/x_norm\n",
    "    ### Fin ###\n",
    "\n",
    "    return x"
   ]
  },
  {
   "cell_type": "code",
   "execution_count": 19,
   "id": "479f02cb",
   "metadata": {},
   "outputs": [
    {
     "name": "stdout",
     "output_type": "stream",
     "text": [
      "normalizeRows(x) = [[0.         0.6        0.8       ]\n",
      " [0.26726124 0.80178373 0.53452248]]\n"
     ]
    }
   ],
   "source": [
    "x = np.array([\n",
    "    [0, 3, 4],\n",
    "    [2, 6, 4]])\n",
    "print(f\"normalizeRows(x) = {normalizeRows(x)}\")"
   ]
  },
  {
   "cell_type": "markdown",
   "id": "cabf6c9b",
   "metadata": {},
   "source": [
    "**Salida esperada**: \n",
    " \n",
    "<table style=\"width:100%\">\n",
    "     <tr> \n",
    "       <td> **normalizeRows(x)** </td> \n",
    "       <td> [[ 0.          0.6         0.8       ]</td>\n",
    "       <td>[ 0.26726124 0.80178373 0.53452248]]</td> \n",
    "     </tr>\n",
    "</table>"
   ]
  },
  {
   "cell_type": "markdown",
   "id": "58d18d97",
   "metadata": {},
   "source": [
    "### 1.5 - Broadcasting y la función softmax####\n",
    "Una característica muy 'útil' de Python es el concepto de Broadcasting que permite operar arreglos con dimensiones diferentes. La documentación sobre esta característica de Python la puedes encontrar aquí [broadcasting documentation](http://docs.scipy.org/doc/numpy/user/basics.broadcasting.html)."
   ]
  },
  {
   "cell_type": "markdown",
   "id": "0ff818b9",
   "metadata": {},
   "source": [
    "**Exercise**: Implementa la función softmax usando numpy. La función softmax es una función de normalización que se usa cuando el algoritmo requiere de clasificar dos o más clases. \n",
    "\n",
    "**Instrucciones**:\n",
    "- $ \\text{Para } x \\in \\mathbb{R}^{1\\times n} \\text{,     } softmax(x) = softmax(\\begin{bmatrix}\n",
    "    x_1  &&\n",
    "    x_2 &&\n",
    "    ...  &&\n",
    "    x_n  \n",
    "\\end{bmatrix}) = \\begin{bmatrix}\n",
    "     \\frac{e^{x_1}}{\\sum_{j}e^{x_j}}  &&\n",
    "    \\frac{e^{x_2}}{\\sum_{j}e^{x_j}}  &&\n",
    "    ...  &&\n",
    "    \\frac{e^{x_n}}{\\sum_{j}e^{x_j}} \n",
    "\\end{bmatrix} $ \n",
    "\n",
    "- $\\text{Para una matriz } x \\in \\mathbb{R}^{m \\times n} \\text{,  $x_{ij}$ mapea cada elemento del renlón y columna (i,j) de la siguiente forma}$  $$softmax(x) = softmax\\begin{bmatrix}\n",
    "    x_{11} & x_{12} & x_{13} & \\dots  & x_{1n} \\\\\n",
    "    x_{21} & x_{22} & x_{23} & \\dots  & x_{2n} \\\\\n",
    "    \\vdots & \\vdots & \\vdots & \\ddots & \\vdots \\\\\n",
    "    x_{m1} & x_{m2} & x_{m3} & \\dots  & x_{mn}\n",
    "\\end{bmatrix} = \\begin{bmatrix}\n",
    "    \\frac{e^{x_{11}}}{\\sum_{j}e^{x_{1j}}} & \\frac{e^{x_{12}}}{\\sum_{j}e^{x_{1j}}} & \\frac{e^{x_{13}}}{\\sum_{j}e^{x_{1j}}} & \\dots  & \\frac{e^{x_{1n}}}{\\sum_{j}e^{x_{1j}}} \\\\\n",
    "    \\frac{e^{x_{21}}}{\\sum_{j}e^{x_{2j}}} & \\frac{e^{x_{22}}}{\\sum_{j}e^{x_{2j}}} & \\frac{e^{x_{23}}}{\\sum_{j}e^{x_{2j}}} & \\dots  & \\frac{e^{x_{2n}}}{\\sum_{j}e^{x_{2j}}} \\\\\n",
    "    \\vdots & \\vdots & \\vdots & \\ddots & \\vdots \\\\\n",
    "    \\frac{e^{x_{m1}}}{\\sum_{j}e^{x_{mj}}} & \\frac{e^{x_{m2}}}{\\sum_{j}e^{x_{mj}}} & \\frac{e^{x_{m3}}}{\\sum_{j}e^{x_{mj}}} & \\dots  & \\frac{e^{x_{mn}}}{\\sum_{j}e^{x_{mj}}}\n",
    "\\end{bmatrix} = \\begin{pmatrix}\n",
    "    softmax\\text{(Primer renglón de x)}  \\\\\n",
    "    softmax\\text{(Segundo renglón de x)} \\\\\n",
    "    ...  \\\\\n",
    "    softmax\\text{(último renglón de x)} \\\\\n",
    "\\end{pmatrix} $$"
   ]
  },
  {
   "cell_type": "code",
   "execution_count": 20,
   "id": "dbfddd21",
   "metadata": {},
   "outputs": [],
   "source": [
    "def softmax(x):\n",
    "    \"\"\"Calcula la función softmax para cada renglón de la matriz de entrada m.\n",
    "    \n",
    "    El código debe de poder operar matrices y vectores renglón. \n",
    "    Argumento:\n",
    "    x -- Matriz de (m,n)\n",
    "\n",
    "    Salida:\n",
    "    s -- Una matriz de numpy con el función softmax de dimensiones (m,n)\n",
    "    \"\"\"\n",
    "    \n",
    "    ### Escribe tu código aquí ### (≈ 3 líneas de código)\n",
    "    # Aplica el exponencial a cada elemento.\n",
    "    x_exp = np.exp(x)\n",
    "\n",
    "    # Crea un vector x_sum que sume todos los renglones de x_exp. Usa np.sum(..., axis = 1, keepdims = True).\n",
    "    x_sum = np.sum(x_exp, axis = 1, keepdims = True)\n",
    "    \n",
    "    # Calcula la función softmax(x) dividiendo x_exp entre x_sum.\n",
    "    s = x_exp/x_sum\n",
    "    ### Fin ###\n",
    "    \n",
    "    return s"
   ]
  },
  {
   "cell_type": "code",
   "execution_count": 22,
   "id": "1906ca7c",
   "metadata": {},
   "outputs": [
    {
     "name": "stdout",
     "output_type": "stream",
     "text": [
      "softmax(x) = [[9.80897665e-01 8.94462891e-04 1.79657674e-02 1.21052389e-04\n",
      "  1.21052389e-04]\n",
      " [8.78679856e-01 1.18916387e-01 8.01252314e-04 8.01252314e-04\n",
      "  8.01252314e-04]]\n"
     ]
    }
   ],
   "source": [
    "x = np.array([\n",
    "    [9, 2, 5, 0, 0],\n",
    "    [7, 5, 0, 0 ,0]])\n",
    "print(f\"softmax(x) = {softmax(x)}\")"
   ]
  },
  {
   "cell_type": "markdown",
   "id": "9fdeeb00",
   "metadata": {},
   "source": [
    "**Salida**:\n",
    "\n",
    "<table style=\"width:100%\">\n",
    "     <tr> \n",
    "       <td> **softmax(x)** </td> \n",
    "       <td> [[  9.80897665e-01   8.94462891e-04   1.79657674e-02   1.21052389e-04\n",
    "    1.21052389e-04]\n",
    " [  8.78679856e-01   1.18916387e-01   8.01252314e-04   8.01252314e-04\n",
    "    8.01252314e-04]]</td> \n",
    "     </tr>\n",
    "</table>"
   ]
  },
  {
   "cell_type": "markdown",
   "id": "d5610985",
   "metadata": {},
   "source": [
    "## 2) Vectorización\n",
    "\n",
    "En los modelos de aprendizaje profundo comunmente se trabaja con matrices de múltiples dimensiones con un gran número de elementos cada una, por lo que es necesario hacer el código lo más eficientemente posible. Para demostrar los problemas más comunes analiza los siguientes ejemplos de implementación."
   ]
  },
  {
   "cell_type": "code",
   "execution_count": 30,
   "id": "c5a702da",
   "metadata": {},
   "outputs": [
    {
     "name": "stdout",
     "output_type": "stream",
     "text": [
      "Producto punto = 278\n",
      " ----- Tiempo de computo = 0.21899999999952513ms\n",
      "Producto externo = [[81. 18. 18. 81.  0. 81. 18. 45.  0.  0. 81. 18. 45.  0.  0.]\n",
      " [18.  4.  4. 18.  0. 18.  4. 10.  0.  0. 18.  4. 10.  0.  0.]\n",
      " [45. 10. 10. 45.  0. 45. 10. 25.  0.  0. 45. 10. 25.  0.  0.]\n",
      " [ 0.  0.  0.  0.  0.  0.  0.  0.  0.  0.  0.  0.  0.  0.  0.]\n",
      " [ 0.  0.  0.  0.  0.  0.  0.  0.  0.  0.  0.  0.  0.  0.  0.]\n",
      " [63. 14. 14. 63.  0. 63. 14. 35.  0.  0. 63. 14. 35.  0.  0.]\n",
      " [45. 10. 10. 45.  0. 45. 10. 25.  0.  0. 45. 10. 25.  0.  0.]\n",
      " [ 0.  0.  0.  0.  0.  0.  0.  0.  0.  0.  0.  0.  0.  0.  0.]\n",
      " [ 0.  0.  0.  0.  0.  0.  0.  0.  0.  0.  0.  0.  0.  0.  0.]\n",
      " [ 0.  0.  0.  0.  0.  0.  0.  0.  0.  0.  0.  0.  0.  0.  0.]\n",
      " [81. 18. 18. 81.  0. 81. 18. 45.  0.  0. 81. 18. 45.  0.  0.]\n",
      " [18.  4.  4. 18.  0. 18.  4. 10.  0.  0. 18.  4. 10.  0.  0.]\n",
      " [45. 10. 10. 45.  0. 45. 10. 25.  0.  0. 45. 10. 25.  0.  0.]\n",
      " [ 0.  0.  0.  0.  0.  0.  0.  0.  0.  0.  0.  0.  0.  0.  0.]\n",
      " [ 0.  0.  0.  0.  0.  0.  0.  0.  0.  0.  0.  0.  0.  0.  0.]]\n",
      " ----- Tiempo de cómputo = 0.3929999999998657ms\n",
      "Multiplicación elemento a elemento = [81.  4. 10.  0.  0. 63. 10.  0.  0.  0. 81.  4. 25.  0.  0.]\n",
      " ----- Tiempo de cómputo = 0.15300000000006975ms\n",
      "Producto punto generalizado = [25.63302887 23.52205525 25.07436306]\n",
      " ----- Tiempo de cómputo = 0.22199999999994446ms\n"
     ]
    }
   ],
   "source": [
    "import time\n",
    "\n",
    "x1 = [9, 2, 5, 0, 0, 7, 5, 0, 0, 0, 9, 2, 5, 0, 0]\n",
    "x2 = [9, 2, 2, 9, 0, 9, 2, 5, 0, 0, 9, 2, 5, 0, 0]\n",
    "\n",
    "### Implementación clásica del producto de dos vectores ###\n",
    "tic = time.process_time()\n",
    "dot = 0\n",
    "for i in range(len(x1)):\n",
    "    dot+= x1[i]*x2[i]\n",
    "toc = time.process_time()\n",
    "print (\"Producto punto = \" + str(dot) + \"\\n ----- Tiempo de computo = \" + str(1000*(toc - tic)) + \"ms\")\n",
    "\n",
    "### Implementación clásica del producto externo ###\n",
    "tic = time.process_time()\n",
    "outer = np.zeros((len(x1),len(x2))) # Se crea una matriz de ceros de dimensión len(x1)*len(x2)\n",
    "for i in range(len(x1)):\n",
    "    for j in range(len(x2)):\n",
    "        outer[i,j] = x1[i]*x2[j]\n",
    "toc = time.process_time()\n",
    "print (\"Producto externo = \" + str(outer) + \"\\n ----- Tiempo de cómputo = \" + str(1000*(toc - tic)) + \"ms\")\n",
    "\n",
    "### Implementación clásica de elemento a elemento ###\n",
    "tic = time.process_time()\n",
    "mul = np.zeros(len(x1))\n",
    "for i in range(len(x1)):\n",
    "    mul[i] = x1[i]*x2[i]\n",
    "toc = time.process_time()\n",
    "print (\"Multiplicación elemento a elemento = \" + str(mul) + \"\\n ----- Tiempo de cómputo = \" + str(1000*(toc - tic)) + \"ms\")\n",
    "\n",
    "### Implementación clásica general ###\n",
    "W = np.random.rand(3,len(x1)) # Arreglo aleatorio de 3*len(x1)\n",
    "tic = time.process_time()\n",
    "gdot = np.zeros(W.shape[0])\n",
    "for i in range(W.shape[0]):\n",
    "    for j in range(len(x1)):\n",
    "        gdot[i] += W[i,j]*x1[j]\n",
    "toc = time.process_time()\n",
    "print (\"Producto punto generalizado = \" + str(gdot) + \"\\n ----- Tiempo de cómputo = \" + str(1000*(toc - tic)) + \"ms\")"
   ]
  },
  {
   "cell_type": "code",
   "execution_count": 29,
   "id": "31fdfdeb",
   "metadata": {},
   "outputs": [
    {
     "name": "stdout",
     "output_type": "stream",
     "text": [
      "dot = 278\n",
      " ----- Tiempo de cómputo = 0.21399999999971442ms\n",
      "outer = [[81 18 18 81  0 81 18 45  0  0 81 18 45  0  0]\n",
      " [18  4  4 18  0 18  4 10  0  0 18  4 10  0  0]\n",
      " [45 10 10 45  0 45 10 25  0  0 45 10 25  0  0]\n",
      " [ 0  0  0  0  0  0  0  0  0  0  0  0  0  0  0]\n",
      " [ 0  0  0  0  0  0  0  0  0  0  0  0  0  0  0]\n",
      " [63 14 14 63  0 63 14 35  0  0 63 14 35  0  0]\n",
      " [45 10 10 45  0 45 10 25  0  0 45 10 25  0  0]\n",
      " [ 0  0  0  0  0  0  0  0  0  0  0  0  0  0  0]\n",
      " [ 0  0  0  0  0  0  0  0  0  0  0  0  0  0  0]\n",
      " [ 0  0  0  0  0  0  0  0  0  0  0  0  0  0  0]\n",
      " [81 18 18 81  0 81 18 45  0  0 81 18 45  0  0]\n",
      " [18  4  4 18  0 18  4 10  0  0 18  4 10  0  0]\n",
      " [45 10 10 45  0 45 10 25  0  0 45 10 25  0  0]\n",
      " [ 0  0  0  0  0  0  0  0  0  0  0  0  0  0  0]\n",
      " [ 0  0  0  0  0  0  0  0  0  0  0  0  0  0  0]]\n",
      " ----- Tiempo de cómputo = 0.3010000000003288ms\n",
      "elementwise multiplication = [81  4 10  0  0 63 10  0  0  0 81  4 25  0  0]\n",
      " ----- Tiempo de cómputo = 0.09700000000023579ms\n",
      "gdot = [21.82593447 10.77934902 24.06712073]\n",
      " ----- Tiempo de cómputo = 0.12699999999998823ms\n"
     ]
    }
   ],
   "source": [
    "x1 = [9, 2, 5, 0, 0, 7, 5, 0, 0, 0, 9, 2, 5, 0, 0]\n",
    "x2 = [9, 2, 2, 9, 0, 9, 2, 5, 0, 0, 9, 2, 5, 0, 0]\n",
    "\n",
    "### Producto punto de vectores ###\n",
    "tic = time.process_time()\n",
    "dot = np.dot(x1,x2)\n",
    "toc = time.process_time()\n",
    "print (\"Producto punto = \" + str(dot) + \"\\n ----- Tiempo de cómputo = \" + str(1000*(toc - tic)) + \"ms\")\n",
    "\n",
    "### Producto externo de vectores ###\n",
    "tic = time.process_time()\n",
    "outer = np.outer(x1,x2)\n",
    "toc = time.process_time()\n",
    "print (\"Producto externo = \" + str(outer) + \"\\n ----- Tiempo de cómputo = \" + str(1000*(toc - tic)) + \"ms\")\n",
    "\n",
    "### Multiplicación punto a punto ###\n",
    "tic = time.process_time()\n",
    "mul = np.multiply(x1,x2)\n",
    "toc = time.process_time()\n",
    "print (\"Multiplicación punto a punto = \" + str(mul) + \"\\n ----- Tiempo de cómputo = \" + str(1000*(toc - tic)) + \"ms\")\n",
    "\n",
    "### Producto putno generalizado ###\n",
    "tic = time.process_time()\n",
    "dot = np.dot(W,x1)\n",
    "toc = time.process_time()\n",
    "print (\"Producto punto generalizado = \" + str(dot) + \"\\n ----- Tiempo de cómputo = \" + str(1000*(toc - tic)) + \"ms\")"
   ]
  },
  {
   "cell_type": "markdown",
   "id": "3ef38dfc",
   "metadata": {},
   "source": [
    "### 2.1 Implementación de las funciones de pérdida L1 y L2\n",
    "\n",
    "**Ejercicio**: Implementació de la función vectorizada de pérdida L1.\n",
    "\n",
    "**Recuerda**:\n",
    "- La función de pérdida se usa para evaluar el desempeño de tu modelo, entre mayor sea la pérdida, peor será el desempeño de las predicciones del model ($ \\hat{y} $) con resecto a lo valores reales ($y$). En aprendizaje profundo se utilizan algoritmos de optimización con el decenso por gradiente para entrenar el modelo y minimizar el costo. \n",
    "- La función de pérdida L1 se define como :\n",
    "$$\\begin{align*} & L_1(\\hat{y}, y) = \\sum_{i=0}^m|y^{(i)} - \\hat{y}^{(i)}| \\end{align*}\\tag{6}$$"
   ]
  },
  {
   "cell_type": "code",
   "execution_count": 31,
   "id": "94451a64",
   "metadata": {},
   "outputs": [],
   "source": [
    "def L1(yhat, y):\n",
    "    \"\"\"\n",
    "    Argumentos:\n",
    "    yhat -- vector de tamaño m (predicted labels)\n",
    "    y -- vector de tamaño m (true labels)\n",
    "    \n",
    "    Salida:\n",
    "    loss -- El valor de la función de pérdida como se definió arriba\n",
    "    \"\"\"\n",
    "    \n",
    "    ### Escribe tu código aquí ### (≈ 1 línea de código)\n",
    "    loss = np.sum(np.abs(yhat-y))\n",
    "    ### Fin ###\n",
    "    \n",
    "    return loss"
   ]
  },
  {
   "cell_type": "code",
   "execution_count": 32,
   "id": "17c34560",
   "metadata": {},
   "outputs": [
    {
     "name": "stdout",
     "output_type": "stream",
     "text": [
      "L1 = 1.1\n"
     ]
    }
   ],
   "source": [
    "yhat = np.array([.9, 0.2, 0.1, .4, .9])\n",
    "y = np.array([1, 0, 0, 1, 1])\n",
    "print(\"L1 = \" + str(L1(yhat,y)))"
   ]
  },
  {
   "cell_type": "markdown",
   "id": "008bdeb9",
   "metadata": {},
   "source": [
    "**Salida esperada**:\n",
    "\n",
    "<table style=\"width:20%\">\n",
    "     <tr> \n",
    "       <td> **L1** </td> \n",
    "       <td> 1.1 </td> \n",
    "     </tr>\n",
    "</table>"
   ]
  },
  {
   "cell_type": "markdown",
   "id": "828547ec",
   "metadata": {},
   "source": [
    "**Ejercicio**: Implementa la versión vectorizada con *numpy* de la pérdida L2. Hay varias formas de implementar la pérdida L2, la forma más simple es mediante la función de numpy `np.dot()`. Recuerda, si $x = [x_1, x_2, ..., x_n]$, entonces `np.dot(x,x)` = $\\sum_{j=0}^n x_j^{2}$.\n",
    "\n",
    "- La pérdida L2 se define como:  \n",
    "$$\\begin{align*} & L_2(\\hat{y},y) = \\sum_{i=0}^m(y^{(i)} - \\hat{y}^{(i)})^2 \\end{align*}\\tag{7}$$\n"
   ]
  },
  {
   "cell_type": "code",
   "execution_count": 42,
   "id": "c65d954b",
   "metadata": {},
   "outputs": [],
   "source": [
    "def L2(yhat, y):\n",
    "    \"\"\"\n",
    "    Argumentos:\n",
    "    yhat -- vector de tamaño m (etiquetas predichas por el modelo)\n",
    "    y -- vector de tamaño m (etiquetas verdaderas)\n",
    "    \n",
    "    Salida:\n",
    "    loss -- El valor de la función de pérdida L2\n",
    "    \"\"\"\n",
    "    \n",
    "    ### Escribe tu código aquí ### (≈ 1 línea de código)\n",
    "    loss = np.sum(np.dot(yhat-y,yhat-y))\n",
    "    ### Fin ###\n",
    "    \n",
    "    return loss"
   ]
  },
  {
   "cell_type": "code",
   "execution_count": 43,
   "id": "f1814569",
   "metadata": {},
   "outputs": [
    {
     "name": "stdout",
     "output_type": "stream",
     "text": [
      "L2 = 0.43\n"
     ]
    }
   ],
   "source": [
    "yhat = np.array([.9, 0.2, 0.1, .4, .9])\n",
    "y = np.array([1, 0, 0, 1, 1])\n",
    "print(f\"L2 = {L2(yhat,y)}\")"
   ]
  },
  {
   "cell_type": "markdown",
   "id": "a91b9f63",
   "metadata": {},
   "source": [
    "**Salida esperada**: \n",
    "<table style=\"width:20%\">\n",
    "     <tr> \n",
    "       <td> **L2** </td> \n",
    "       <td> 0.43 </td> \n",
    "     </tr>\n",
    "</table>"
   ]
  },
  {
   "cell_type": "code",
   "execution_count": null,
   "id": "9800cacb",
   "metadata": {},
   "outputs": [],
   "source": []
  }
 ],
 "metadata": {
  "kernelspec": {
   "display_name": "pykonal",
   "language": "python",
   "name": "pykonal"
  },
  "language_info": {
   "codemirror_mode": {
    "name": "ipython",
    "version": 3
   },
   "file_extension": ".py",
   "mimetype": "text/x-python",
   "name": "python",
   "nbconvert_exporter": "python",
   "pygments_lexer": "ipython3",
   "version": "3.8.18"
  }
 },
 "nbformat": 4,
 "nbformat_minor": 5
}
