{
  "cells": [
    {
      "cell_type": "markdown",
      "id": "b27f3507",
      "metadata": {
        "id": "b27f3507"
      },
      "source": [
        "# Regresión Logística orientado a redes neuronales\n",
        "\n",
        "En este cuaderno vamos a construir un clasificador de regresión logística para reconocer gatos. Este ejercicio te guiará paso a paso como construir una red de manera manual.\n",
        "\n",
        "**Instrucciones:**\n",
        "- No uses bucles (for/while) en tu código, a menos que las instrucciones lo indiquen explícitamente.\n",
        "\n",
        "**Objetivos:**\n",
        "- Contruir una red neuronal paso a paso:\n",
        "    1. Inicialización de los parámetros\n",
        "    2. Cálculo la función de costo y su gradiente\n",
        "    3. Uso de un algoritmo de optimización (descenso por gradiente).\n",
        "    \n",
        "## 1 - Paquetes ##\n",
        "\n",
        "Estos son los paquete que vamos a usar para este ejercicio.\n",
        "- [numpy](www.numpy.org) es un paquete de uso general de cómputo científico.\n",
        "- [h5py](http://www.h5py.org) es un paquete utilizado para crear y editar archivos en formato h5.\n",
        "- [matplotlib](http://matplotlib.org) este paquete se usa para la graficación de los datos.\n",
        "- [PIL](http://www.pythonware.com/products/pil/) y [scipy](https://www.scipy.org/) se utiliza para probar el modelo.\n"
      ]
    },
    {
      "cell_type": "code",
      "execution_count": 2,
      "id": "c107e4c4",
      "metadata": {
        "colab": {
          "base_uri": "https://localhost:8080/"
        },
        "id": "c107e4c4",
        "outputId": "958ed759-216b-4625-ecf9-ea9842b3c77b"
      },
      "outputs": [
        {
          "name": "stdout",
          "output_type": "stream",
          "text": [
            "Drive already mounted at /content/drive; to attempt to forcibly remount, call drive.mount(\"/content/drive\", force_remount=True).\n",
            "Mounted at /content/drive\n",
            "Drive already mounted at /content/drive; to attempt to forcibly remount, call drive.mount(\"/content/drive\", force_remount=True).\n"
          ]
        }
      ],
      "source": [
        "from google.colab import drive\n",
        "drive.mount('/content/drive')\n",
        "drive.mount(\"/content/drive\", force_remount=True)\n",
        "\n",
        "import sys\n",
        "sys.path.append('/content/drive/MyDrive/AI_notebooks')\n",
        "\n",
        "\n",
        "import numpy as np\n",
        "import matplotlib.pyplot as plt\n",
        "import h5py\n",
        "import scipy\n",
        "from PIL import Image\n",
        "from scipy import ndimage\n",
        "from lr_utils import load_dataset\n",
        "\n",
        "%matplotlib inline\n"
      ]
    },
    {
      "cell_type": "markdown",
      "id": "d31126a1",
      "metadata": {
        "id": "d31126a1"
      },
      "source": [
        "## 2 - Planteamiento del problema ##\n",
        "\n",
        "Se te proporciona un conjunto de datos (train_catvnoncat.h5) que contiene:\n",
        "\n",
        "- Un conjunto de entrenamiento de m_train imágenes etiquetadas como gato (y=1) o no gato (y=0).\n",
        "\n",
        "- Un conjunto de prueba de m_test imágenes etiquetadas como gato o no gato.\n",
        "\n",
        "- Cada imagen tiene forma (num_px, num_px, 3), donde 3 corresponde a los 3 canales (RGB). Por lo tanto, cada imagen es cuadrada (alto = num_px, ancho = num_px).\n",
        "\n",
        "Vamos construir un algoritmo simple de reconocimiento de imágenes que pueda clasificar correctamente imágenes como gato o no gato.\n",
        "\n",
        "Vamos a familiarizarnos con el conjunto de datos. Carga los datos ejecutando el siguiente código:"
      ]
    },
    {
      "cell_type": "code",
      "execution_count": 3,
      "id": "c1955860",
      "metadata": {
        "id": "c1955860"
      },
      "outputs": [],
      "source": [
        "# Cargando datos (gato/no-gato)\n",
        "train_set_x_orig, train_set_y, test_set_x_orig, test_set_y, classes = load_dataset()"
      ]
    },
    {
      "cell_type": "markdown",
      "id": "2ee5110f",
      "metadata": {
        "id": "2ee5110f"
      },
      "source": [
        "Agregamos el sufijo \"_orig\" al conjunto de datos de imágenes (entrenamiento y prueba) porque vamos a preprocesarlos. Después del preprocesamiento, terminaremos con train_set_x y test_set_x (las etiquetas train_set_y y test_set_y no necesitan ningún preprocesamiento).\n",
        "\n",
        "Cada línea de train_set_x_orig y test_set_x_orig es un arreglo que representa una imagen. Puedes visualizar un ejemplo ejecutando el siguiente código. Puedes modificar el valor del índice y volver a ejecutarlo para ver otras imágenes."
      ]
    },
    {
      "cell_type": "code",
      "execution_count": 4,
      "id": "6194a5d1",
      "metadata": {
        "colab": {
          "base_uri": "https://localhost:8080/",
          "height": 450
        },
        "id": "6194a5d1",
        "outputId": "fdba0df0-e9b6-4693-a7c5-cfc7abb9ca1a"
      },
      "outputs": [
        {
          "name": "stdout",
          "output_type": "stream",
          "text": [
            "y = [1] es la foto de un cat\n"
          ]
        },
        {
          "data": {
            "image/png": "[encoded data removed]",
            "text/plain": [
              "<Figure size 640x480 with 1 Axes>"
            ]
          },
          "metadata": {},
          "output_type": "display_data"
        }
      ],
      "source": [
        "# Ejemplo de imagenes\n",
        "index = 25\n",
        "plt.imshow(train_set_x_orig[index])\n",
        "print (\"y = \" + str(train_set_y[:, index]) + \" es la foto de un \" + classes[np.squeeze(train_set_y[:, index])].decode(\"utf-8\"))"
      ]
    },
    {
      "cell_type": "code",
      "execution_count": null,
      "id": "ae6b00f3",
      "metadata": {
        "colab": {
          "base_uri": "https://localhost:8080/"
        },
        "id": "ae6b00f3",
        "outputId": "5374704e-ec96-45df-fdeb-a1723bf258c3"
      },
      "outputs": [
        {
          "name": "stdout",
          "output_type": "stream",
          "text": [
            "Número de ejemplos de entrenamiento: m_train = 209\n",
            "Número de ejemplos de prueba: m_test = 50\n",
            "Alto/ancho de cada imagen: num_px = 64\n",
            "Cada imagen tienes dimensiones: (64, 64, 3)\n",
            "train_set_x shape: (209, 64, 64, 3)\n",
            "train_set_y shape: (1, 209)\n",
            "test_set_x shape: (50, 64, 64, 3)\n",
            "test_set_y shape: (1, 50)\n"
          ]
        }
      ],
      "source": [
        "### Escribe tu código aquí ### (≈ 3 líneas de código)\n",
        "m_train =\n",
        "m_test =\n",
        "num_px =\n",
        "### Fin ###\n",
        "\n",
        "print (\"Número de ejemplos de entrenamiento: m_train = \" + str(m_train))\n",
        "print (\"Número de ejemplos de prueba: m_test = \" + str(m_test))\n",
        "print (\"Alto/ancho de cada imagen: num_px = \" + str(num_px))\n",
        "print (\"Cada imagen tienes dimensiones: (\" + str(num_px) + \", \" + str(num_px) + \", 3)\")\n",
        "print (\"train_set_x shape: \" + str(train_set_x_orig.shape))\n",
        "print (\"train_set_y shape: \" + str(train_set_y.shape))\n",
        "print (\"test_set_x shape: \" + str(test_set_x_orig.shape))\n",
        "print (\"test_set_y shape: \" + str(test_set_y.shape))"
      ]
    },
    {
      "cell_type": "markdown",
      "id": "cd7a9474",
      "metadata": {
        "id": "cd7a9474"
      },
      "source": [
        "**Salida esperada para m_train, m_test y num_px**:\n",
        "<table style=\"width:15%\">\n",
        "  <tr>\n",
        "    <td>**m_train**</td>\n",
        "    <td> 209 </td>\n",
        "  </tr>\n",
        "  \n",
        "  <tr>\n",
        "    <td>**m_test**</td>\n",
        "    <td> 50 </td>\n",
        "  </tr>\n",
        "  \n",
        "  <tr>\n",
        "    <td>**num_px**</td>\n",
        "    <td> 64 </td>\n",
        "  </tr>\n",
        "  \n",
        "</table>"
      ]
    },
    {
      "cell_type": "markdown",
      "id": "c6d1d13b",
      "metadata": {
        "id": "c6d1d13b"
      },
      "source": [
        "Para generar la red neuronal debes de cambiar las dimensiones de las imágenes (num_px, num_px, 3) en un arreglo de NumPy con dimensiones (num_px * num_px * 3, 1). Después de esto, nuestro conjunto de entrenamiento y prueba será un arreglo de NumPy donde cada columna representa una imagen aplanada. Por lo que cada uno debe de contener m_train y m_test columans respectivamente.\n",
        "\n",
        "Ejercicio: Remodela los conjuntos de datos de entrenamiento y prueba de manera que las imágenes de tamaño (num_px, num_px, 3) se aplanen en vectores individuales de forma (num_px * num_px * 3, 1).\n",
        "\n",
        "**Tip:** Cuando quieres aplanar una matriz X de forma (a, b, c, d) a una matriz X_flatten de forma (b * c * d, a) puedes usar:\n",
        "```python\n",
        "X_flatten = X.reshape(X.shape[0], -1).T      # X.T is the transpose of X\n",
        "```"
      ]
    },
    {
      "cell_type": "code",
      "execution_count": null,
      "id": "fae40577",
      "metadata": {
        "colab": {
          "base_uri": "https://localhost:8080/"
        },
        "id": "fae40577",
        "outputId": "9718734d-d17d-44a0-944c-32863db2ca51"
      },
      "outputs": [
        {
          "name": "stdout",
          "output_type": "stream",
          "text": [
            "train_set_x_flatten shape: (12288, 209)\n",
            "train_set_y shape: (1, 209)\n",
            "test_set_x_flatten shape: (12288, 50)\n",
            "test_set_y shape: (1, 50)\n",
            "sanity check after reshaping: [17 31 56 22 33]\n"
          ]
        }
      ],
      "source": [
        "### Escribe tu código aquí ### (≈ 2 líneas de código)\n",
        "train_set_x_flatten = \n",
        "test_set_x_flatten = \n",
        "### Fin ###\n",
        "\n",
        "print (\"train_set_x_flatten shape: \" + str(train_set_x_flatten.shape))\n",
        "print (\"train_set_y shape: \" + str(train_set_y.shape))\n",
        "print (\"test_set_x_flatten shape: \" + str(test_set_x_flatten.shape))\n",
        "print (\"test_set_y shape: \" + str(test_set_y.shape))\n",
        "print (\"sanity check after reshaping: \" + str(train_set_x_flatten[0:5,0]))"
      ]
    },
    {
      "cell_type": "markdown",
      "id": "3c1d27a0",
      "metadata": {
        "id": "3c1d27a0"
      },
      "source": [
        "**Salida esperada**:\n",
        "\n",
        "<table style=\"width:35%\">\n",
        "  <tr>\n",
        "    <td>**train_set_x_flatten shape**</td>\n",
        "    <td> (12288, 209)</td>\n",
        "  </tr>\n",
        "  <tr>\n",
        "    <td>**train_set_y shape**</td>\n",
        "    <td>(1, 209)</td>\n",
        "  </tr>\n",
        "  <tr>\n",
        "    <td>**test_set_x_flatten shape**</td>\n",
        "    <td>(12288, 50)</td>\n",
        "  </tr>\n",
        "  <tr>\n",
        "    <td>**test_set_y shape**</td>\n",
        "    <td>(1, 50)</td>\n",
        "  </tr>\n",
        "  <tr>\n",
        "  <td>**sanity check after reshaping**</td>\n",
        "  <td>[17 31 56 22 33]</td>\n",
        "  </tr>\n",
        "</table>"
      ]
    },
    {
      "cell_type": "markdown",
      "id": "0eb50e3d",
      "metadata": {
        "id": "0eb50e3d"
      },
      "source": [
        "Para representar imágenes a color, se deben especificar los canales rojo, verde y azul (RGB) para cada píxel, por lo que el valor de un píxel es en realidad un vector de tres números que van del 0 al 255.\n",
        "\n",
        "Un paso común de preprocesamiento en aprendizaje automático es centrar y estandarizar el conjunto de datos, lo que significa restar la media de todo el arreglo de NumPy a cada ejemplo, y luego dividir cada ejemplo por la desviación estándar de todo el arreglo. Pero, para conjuntos de datos de imágenes, es más simple, más conveniente y funciona casi igual de bien simplemente dividir cada fila del conjunto de datos por 255 (el valor máximo de un canal de píxel).\n"
      ]
    },
    {
      "cell_type": "code",
      "execution_count": 7,
      "id": "c74bf47f",
      "metadata": {
        "id": "c74bf47f"
      },
      "outputs": [],
      "source": [
        "train_set_x = train_set_x_flatten/255.\n",
        "test_set_x = test_set_x_flatten/255."
      ]
    },
    {
      "cell_type": "markdown",
      "id": "f0703bc7",
      "metadata": {
        "id": "f0703bc7"
      },
      "source": [
        "## 3 - Arquitectura del algoritmo ##\n",
        "\n",
        "La siguiente figura los pasos básicos para construir una red neuronal para clasificar imágenes de gatos.\n",
        "<img src=\"images/LogReg_kiank.png\" style=\"width:650px;height:400px;\">\n",
        "\n",
        "**Expresiones matemáticas**:\n",
        "\n",
        "Para un ejemplo $x^{(i)}$:\n",
        "$$z^{(i)} = w^T x^{(i)} + b \\tag{1}$$\n",
        "$$\\hat{y}^{(i)} = a^{(i)} = sigmoid(z^{(i)})\\tag{2}$$\n",
        "$$ \\mathcal{L}(a^{(i)}, y^{(i)}) =  - y^{(i)}  \\log(a^{(i)}) - (1-y^{(i)} )  \\log(1-a^{(i)})\\tag{3}$$\n",
        "\n",
        "La función de costo se calcula sumando sobre todos los ejemplos de entranamiento:\n",
        "$$ J = \\frac{1}{m} \\sum_{i=1}^m \\mathcal{L}(a^{(i)}, y^{(i)})\\tag{6}$$\n",
        "\n",
        "\n",
        "    \n",
        "## 4 - Partes del algoritmo ##\n",
        "\n",
        "Los pasos principales para construir una red neuronal son:\n",
        "1. Definir la estructura del modelo (por ejemplo, número de parámetros de entrada).\n",
        "2. Incializar los paramétros del modelo.\n",
        "3. Ciclo:\n",
        "    - Calcular la perdida actual (forward propagation).\n",
        "    - Calcular el gradiente actual (backward propagation).\n",
        "    - Actualizar los páramentros (gradient descent)\n",
        "\n",
        "Vamos a crear la función `model()` con estos pasos.\n",
        "\n",
        "### 4.1 - Funciones auxilares\n",
        "\n",
        "**Ejercicio**: Usando el código que implementaste en el ejercicio anterior crea la función `sigmoid()`, $sigmoid( w^T x + b) = \\frac{1}{1 + e^{-(w^T x + b)}}$. Usa la función np.exp()."
      ]
    },
    {
      "cell_type": "code",
      "execution_count": null,
      "id": "1d986106",
      "metadata": {
        "id": "1d986106"
      },
      "outputs": [],
      "source": [
        "# Función sigmoide\n",
        "\n",
        "\n",
        "import numpy as np\n",
        "\n",
        "def sigmoid(x):\n",
        "    \"\"\"\n",
        "    Calcula la función sigmoide.\n",
        "\n",
        "    Argumentos:\n",
        "    x -- escalar o vector de numpy.\n",
        "\n",
        "    Salida:\n",
        "    s -- sigmoid(x)\n",
        "    \"\"\"\n",
        "\n",
        "    ### ESCRIBE TU CÓDIGO AQUÍ ### (≈ 1 línea de código)\n",
        "    s = \n",
        "    ### FIN ###\n",
        "\n",
        "    return s"
      ]
    },
    {
      "cell_type": "code",
      "execution_count": 9,
      "id": "afb06c0c",
      "metadata": {
        "colab": {
          "base_uri": "https://localhost:8080/"
        },
        "id": "afb06c0c",
        "outputId": "1d919044-77e1-4c07-ef4d-8f9218bbf219"
      },
      "outputs": [
        {
          "name": "stdout",
          "output_type": "stream",
          "text": [
            "sigmoid([0, 2]) = [0.5        0.88079708]\n"
          ]
        }
      ],
      "source": [
        "print (\"sigmoid([0, 2]) = \" + str(sigmoid(np.array([0,2]))))"
      ]
    },
    {
      "cell_type": "markdown",
      "id": "c35212d5",
      "metadata": {
        "id": "c35212d5"
      },
      "source": [
        "**Salida esperada**:\n",
        "<table>\n",
        "  <tr>\n",
        "    <td>**sigmoid([0, 2])**</td>\n",
        "    <td> [ 0.5         0.88079708]</td>\n",
        "  </tr>\n",
        "</table>"
      ]
    },
    {
      "cell_type": "markdown",
      "id": "e744383d",
      "metadata": {
        "id": "e744383d"
      },
      "source": [
        "### 4.2 Inicialización de los parámetros\n",
        "\n",
        "**Exercicio:** Implementa la función inicialización. Esta función crea un vector de ceros con dimensiones (dim, 1) para w e inicializa b con 0. Revisa la documentación de la función de numpy, np.zeros()"
      ]
    },
    {
      "cell_type": "code",
      "execution_count": null,
      "id": "36124980",
      "metadata": {
        "id": "36124980"
      },
      "outputs": [],
      "source": [
        "def initialize_with_zeros(dim):\n",
        "    \"\"\"\n",
        "    Crea un vector de ceros con dimensiones (dim, 1) para w e inicializa b a cero.\n",
        "\n",
        "    Argumentos:\n",
        "    dim -- Número de parámetros del modelo.\n",
        "\n",
        "    Salidas:\n",
        "    w -- vector con ceros de dimensiones (dim, 1)\n",
        "    b -- Escalar (corresponde al bias)\n",
        "    \"\"\"\n",
        "\n",
        "    ### Escribe tu código aquí ### (≈ 1 línea de código)\n",
        "    w = \n",
        "    b = \n",
        "    ### Fin ###\n",
        "\n",
        "    assert(w.shape == (dim, 1))\n",
        "    assert(isinstance(b, float) or isinstance(b, int))\n",
        "\n",
        "    return w, b"
      ]
    },
    {
      "cell_type": "code",
      "execution_count": 11,
      "id": "9c5835c8",
      "metadata": {
        "colab": {
          "base_uri": "https://localhost:8080/"
        },
        "id": "9c5835c8",
        "outputId": "cd233014-1cca-4084-93a1-4fd3c4385640"
      },
      "outputs": [
        {
          "name": "stdout",
          "output_type": "stream",
          "text": [
            "w = [[0.]\n",
            " [0.]]\n",
            "b = 0\n"
          ]
        }
      ],
      "source": [
        "dim = 2\n",
        "w, b = initialize_with_zeros(dim)\n",
        "print (f\"w = {w}\")\n",
        "print (f\"b = {b}\")"
      ]
    },
    {
      "cell_type": "markdown",
      "id": "3176125b",
      "metadata": {
        "id": "3176125b"
      },
      "source": [
        "**Salida esperada**:\n",
        "\n",
        "\n",
        "<table style=\"width:15%\">\n",
        "    <tr>\n",
        "        <td>  ** w **  </td>\n",
        "        <td> [[ 0.]\n",
        " [ 0.]] </td>\n",
        "    </tr>\n",
        "    <tr>\n",
        "        <td>  ** b **  </td>\n",
        "        <td> 0 </td>\n",
        "    </tr>\n",
        "</table>\n",
        "\n",
        "Para las imagenes de entrada, w tendrá dimensiones de (num_px $\\times$ num_px $\\times$ 3, 1)."
      ]
    },
    {
      "cell_type": "markdown",
      "id": "275c0c36",
      "metadata": {
        "id": "275c0c36"
      },
      "source": [
        "### 4.3 - Propagación hacia adelante y hacia atras (forward and backward propagation)\n",
        "\n",
        "\n",
        "**Ejercicio:** Implementar la función `propagate()` que calcula la función de costo y su gradiente.\n",
        "\n",
        "**Tips:**:\n",
        "\n",
        "Forward Propagation:\n",
        "- Obtener X\n",
        "- Calcular $A = \\sigma(w^T X + b) = (a^{(1)}, a^{(2)}, ..., a^{(m-1)}, a^{(m)})$\n",
        "- Calcular: $J = -\\frac{1}{m}\\sum_{i=1}^{m}y^{(i)}\\log(a^{(i)})+(1-y^{(i)})\\log(1-a^{(i)})$\n",
        "\n",
        "Estas son expresiones que vas a necesitar:\n",
        "\n",
        "$$ \\frac{\\partial J}{\\partial w} = \\frac{1}{m}X(A-Y)^T\\tag{7}$$\n",
        "$$ \\frac{\\partial J}{\\partial b} = \\frac{1}{m} \\sum_{i=1}^m (a^{(i)}-y^{(i)})\\tag{8}$$"
      ]
    },
    {
      "cell_type": "code",
      "execution_count": null,
      "id": "abb50459",
      "metadata": {
        "id": "abb50459"
      },
      "outputs": [],
      "source": [
        "def propagate(w, b, X, Y):\n",
        "    \"\"\"\n",
        "    Calcula la función de costo y su gradiente\n",
        "\n",
        "    Argumentos:\n",
        "    w -- pesos, un arreglo de numpy con dimensiones (num_px * num_px * 3, 1).\n",
        "    b -- bias, escalar.\n",
        "    X -- datos con dimensiones (num_px * num_px * 3, número de ejemplos)\n",
        "    Y -- Vector de etiquetas \"label\" vector (contiene 0 si no es un gato, y 1 si es un gato) de tamaño (1, número de ejemplos)\n",
        "\n",
        "    Salida:\n",
        "    cost -- salida de función de costo para la regresión lineal.\n",
        "    dw -- gradiente de la función de pérdida con respecto a w (mismas dimensiones que w)\n",
        "    db -- gradiente de la función de pérdida con respecto a b (mismas dimensiones que b)\n",
        "\n",
        "    Tips:\n",
        "    - Utiliza las siguientes funciones np.log(), np.dot()\n",
        "    \"\"\"\n",
        "\n",
        "    m = X.shape[1]\n",
        "\n",
        "    # FORWARD PROPAGATION\n",
        "    ### Escribe tu código aquí ### (≈ 2 líneas de código)\n",
        "    A =                           # calcula la función activación\n",
        "    cost =                        # calcula la función de costo\n",
        "    ### Fin ###\n",
        "\n",
        "    # BACKWARD PROPAGATION (gradienteD)\n",
        "    ### Escribe tu código aquí ### (≈ 2 líneas de código)\n",
        "    dw = \n",
        "    db = \n",
        "    ### Fin ###\n",
        "\n",
        "    assert(dw.shape == w.shape)\n",
        "    assert(db.dtype == float)\n",
        "    cost = np.squeeze(cost)\n",
        "    assert(cost.shape == ())\n",
        "\n",
        "    grads = {\"dw\": dw,\n",
        "             \"db\": db}\n",
        "\n",
        "    return grads, cost"
      ]
    },
    {
      "cell_type": "code",
      "execution_count": 13,
      "id": "e38f9039",
      "metadata": {
        "colab": {
          "base_uri": "https://localhost:8080/"
        },
        "id": "e38f9039",
        "outputId": "fb51f815-b8d4-4dc0-c354-24df8af1bbab"
      },
      "outputs": [
        {
          "name": "stdout",
          "output_type": "stream",
          "text": [
            "dw = [[0.99845601]\n",
            " [2.39507239]]\n",
            "db = 0.001455578136784208\n",
            "cost = 5.801545319394553\n"
          ]
        }
      ],
      "source": [
        "w, b, X, Y = np.array([[1.],[2.]]), 2., np.array([[1.,2.,-1.],[3.,4.,-3.2]]), np.array([[1,0,1]])\n",
        "grads, cost = propagate(w, b, X, Y)\n",
        "print (\"dw = \" + str(grads[\"dw\"]))\n",
        "print (\"db = \" + str(grads[\"db\"]))\n",
        "print (\"cost = \" + str(cost))"
      ]
    },
    {
      "cell_type": "markdown",
      "id": "ae1c9a06",
      "metadata": {
        "id": "ae1c9a06"
      },
      "source": [
        "**Salida esperada**:\n",
        "\n",
        "<table style=\"width:50%\">\n",
        "    <tr>\n",
        "        <td> ** dw ** </td>\n",
        "      <td> [[ 0.99845601]\n",
        "     [ 2.39507239]]</td>\n",
        "    </tr>\n",
        "    <tr>\n",
        "        <td>  ** db ** </td>\n",
        "        <td> 0.00145557813678 </td>\n",
        "    </tr>\n",
        "    <tr>\n",
        "        <td>  ** cost **  </td>\n",
        "        <td> 5.801545319394553 </td>\n",
        "    </tr>\n",
        "\n",
        "</table>"
      ]
    },
    {
      "cell_type": "markdown",
      "id": "833c6222",
      "metadata": {
        "id": "833c6222"
      },
      "source": [
        "### 4.4 - Optimización\n",
        "\n",
        "**Ejercicio:** Escribe la función de optimización. Este paso consiste en encontrar el conjunto de parámetros $w$ y $b$ que minimizan la función de costo $J$. Actulizaremos el parámetro $\\theta$, con la siguiente regla $ \\theta = \\theta - \\alpha \\text{ } d\\theta$, donde $\\alpha$ es la taza de aprendizaje."
      ]
    },
    {
      "cell_type": "code",
      "execution_count": null,
      "id": "5f36e459",
      "metadata": {
        "id": "5f36e459"
      },
      "outputs": [],
      "source": [
        "def optimize(w, b, X, Y, num_iterations, learning_rate, print_cost = False):\n",
        "    \"\"\"\n",
        "    Esta función optimiza w y b mediante el algoritm e edcenso por gradiente.\n",
        "\n",
        "    Argumentos:\n",
        "    w -- pesos, arreglo de numpy con dimensiones (num_px * num_px * 3, 1)\n",
        "    b -- bias, escalar\n",
        "    X -- datos (num_px * num_px * 3, number of examples)\n",
        "    Y -- Vector de etiquetas (es igual a 0 si no es un gato y 1 si es un gato), de dimensiones (1, número de ejemplos)\n",
        "    num_iterations -- Número de iteraciones.\n",
        "    learning_rate -- tasa de aprendizaje.\n",
        "    print_cost -- Imprime la pérdida cada 100 iteraciones.\n",
        "\n",
        "    Salidas:\n",
        "    params -- Dicionario con los parámetros w y b.\n",
        "    grads -- Diccionario con el gradiente de w, b con respecto a la función de costo.\n",
        "    costs -- Lista de todos los costos calculados.\n",
        "\n",
        "    Tips:\n",
        "    En general  esta función consiste de dos pasos:\n",
        "        1) Calcula el costo y el grdiente con los parámetros actuales. Usa propagate().\n",
        "        2) Actualiza los parámetros usando el decenso por gradiente w y b.\n",
        "    \"\"\"\n",
        "\n",
        "    costs = []\n",
        "\n",
        "    for i in range(num_iterations):\n",
        "\n",
        "\n",
        "        # Calculo del costo y su gradiente (≈ 1 línea de código)\n",
        "        ### Escribe tu código aquí ###\n",
        "        grads, cost = \n",
        "        ### Fin ###\n",
        "\n",
        "        # Recupera las derivadas\n",
        "        dw = grads[\"dw\"]\n",
        "        db = grads[\"db\"]\n",
        "\n",
        "        # Actualiza los parámetros (≈ 2 líneas de código)\n",
        "        ### Escribe tu código aquí ###\n",
        "        w = \n",
        "        b = \n",
        "        ### Fin ###\n",
        "\n",
        "        # Guarda la función de costo\n",
        "        if i % 100 == 0:\n",
        "            costs.append(cost)\n",
        "\n",
        "        # Imprime el valor de la función de costo cada 100 iteraciones\n",
        "        if print_cost and i % 100 == 0:\n",
        "            print (\"Costo después de la iteración %i: %f\" %(i, cost))\n",
        "\n",
        "    params = {\"w\": w,\n",
        "              \"b\": b}\n",
        "\n",
        "    grads = {\"dw\": dw,\n",
        "             \"db\": db}\n",
        "\n",
        "    return params, grads, costs"
      ]
    },
    {
      "cell_type": "code",
      "execution_count": 15,
      "id": "b225bcfe",
      "metadata": {
        "colab": {
          "base_uri": "https://localhost:8080/"
        },
        "id": "b225bcfe",
        "outputId": "c8771796-7ab7-40ce-80c6-bab439590ad6"
      },
      "outputs": [
        {
          "name": "stdout",
          "output_type": "stream",
          "text": [
            "w = [[0.19033591]\n",
            " [0.12259159]]\n",
            "b = 1.9253598300845747\n",
            "dw = [[0.67752042]\n",
            " [1.41625495]]\n",
            "db = 0.21919450454067657\n"
          ]
        }
      ],
      "source": [
        "params, grads, costs = optimize(w, b, X, Y, num_iterations= 100, learning_rate = 0.009, print_cost = False)\n",
        "\n",
        "print (\"w = \" + str(params[\"w\"]))\n",
        "print (\"b = \" + str(params[\"b\"]))\n",
        "print (\"dw = \" + str(grads[\"dw\"]))\n",
        "print (\"db = \" + str(grads[\"db\"]))"
      ]
    },
    {
      "cell_type": "markdown",
      "id": "c72b38ad",
      "metadata": {
        "id": "c72b38ad"
      },
      "source": [
        "**Salida esperada**:\n",
        "\n",
        "<table style=\"width:50%\">\n",
        "    <tr>\n",
        "       <td> **w** </td>\n",
        "       <td>[[ 0.19033591]\n",
        "       [ 0.12259159]] </td>\n",
        "    </tr>\n",
        "    <tr>\n",
        "       <td> **b** </td>\n",
        "       <td> 1.92535983008 </td>\n",
        "    </tr>\n",
        "    <tr>\n",
        "       <td> **dw** </td>\n",
        "       <td> [[ 0.67752042] [ 1.41625495]] </td>\n",
        "    </tr>\n",
        "    <tr>\n",
        "       <td> **db** </td>\n",
        "       <td> 0.219194504541 </td>\n",
        "    </tr>\n",
        "\n",
        "</table>"
      ]
    },
    {
      "cell_type": "markdown",
      "id": "a2fc5935",
      "metadata": {
        "id": "a2fc5935"
      },
      "source": [
        "**Ejercicio:** La función anterior generará los valores w y b aprendidos. Podemos usar estos valores de w y b para predecir las etiquetas de un conjunto de datos X. Completa la función `predict()`. El cálculo de las predicciones consta de dos pasos:\n",
        "\n",
        "1. Calcula $\\hat{Y} = A = \\sigma(w^T X + b)$\n",
        "\n",
        "2. Redondea la probabilidad de tus predicciones a cero si el valor de la función de activación es <= 0.5 y a 1 si activation > 0.5, guarda tus valores de predicción en la variable `Y_prediction`. Se pueden usar los coando `if`/`else` en un ciclo `for` aunque también se puede vectorizar."
      ]
    },
    {
      "cell_type": "code",
      "execution_count": null,
      "id": "d0793e35",
      "metadata": {
        "id": "d0793e35"
      },
      "outputs": [],
      "source": [
        "def predict(w, b, X):\n",
        "    '''\n",
        "    Predice el valor de las etiquetas usando regresión logísitcade los parámetros (w, b)\n",
        "\n",
        "    Argumentos:\n",
        "    w -- pesos, arreglo de numpy de dimensiones (num_px * num_px * 3, 1)\n",
        "    b -- bias, escalar\n",
        "    X -- datos (num_px * num_px * 3, number of examples)\n",
        "\n",
        "    Salidas:\n",
        "    Y_prediction -- vector de numpy (1/0) con las predicciones de los datos de entrada X\n",
        "    '''\n",
        "\n",
        "    m = X.shape[1]\n",
        "    Y_prediction = np.zeros((1,m))\n",
        "\n",
        "\n",
        "    # Calcula el vector \"A\" con las probabilidades de que la imágen sea un gato\n",
        "    ### Escribe tu código aquí  ### (≈ 1 línea de código)\n",
        "    A = \n",
        "    ### fin ###\n",
        "\n",
        "    for i in range(A.shape[1]):\n",
        "        # Convert probabilities A[0,i] to actual predictions p[0,i]\n",
        "        ### Escribe tu código aquí  ### (≈ 4 líneas de código)\n",
        "        if (A[0,i] > 0.5):\n",
        "            Y_prediction[0,i] = 1\n",
        "        else:\n",
        "            Y_prediction[0,i] = 0\n",
        "\n",
        "        ### Fin ###\n",
        "\n",
        "    assert(Y_prediction.shape == (1, m))\n",
        "\n",
        "    return Y_prediction"
      ]
    },
    {
      "cell_type": "code",
      "execution_count": 17,
      "id": "c15c7fc4",
      "metadata": {
        "colab": {
          "base_uri": "https://localhost:8080/"
        },
        "id": "c15c7fc4",
        "outputId": "eaa19995-1649-4779-f7b8-4d729ec78423"
      },
      "outputs": [
        {
          "name": "stdout",
          "output_type": "stream",
          "text": [
            "predictions = [[1. 1. 0.]]\n"
          ]
        }
      ],
      "source": [
        "w = np.array([[0.1124579],[0.23106775]])\n",
        "b = -0.3\n",
        "X = np.array([[1.,-1.1,-3.2],[1.2,2.,0.1]])\n",
        "print (\"predictions = \" + str(predict(w, b, X)))"
      ]
    },
    {
      "cell_type": "markdown",
      "id": "0069939a",
      "metadata": {
        "id": "0069939a"
      },
      "source": [
        "**Salida esperada**:\n",
        "\n",
        "<table style=\"width:30%\">\n",
        "    <tr>\n",
        "         <td>\n",
        "             **predictions**\n",
        "         </td>\n",
        "          <td>\n",
        "            [[ 1.  1.  0.]]\n",
        "         </td>  \n",
        "   </tr>\n",
        "\n",
        "</table>"
      ]
    },
    {
      "cell_type": "markdown",
      "id": "cdab04c0",
      "metadata": {
        "id": "cdab04c0"
      },
      "source": [
        "## 5 - Integra todas las funciones en un modelos##\n",
        "\n",
        "En esta sección vamos a integrar todas las funciones anteriores en un solo modelo.\n",
        "\n",
        "**Ejercicio**: Implenta la función del modelo. Utiliza la siguiente notación: - Y_prediction_test para la predicción de tu conjunto de prueba- Y_prediction_train para las predicciones de tu conjunto de entrenamiento - w, costs, grads para las salidas de la función optimize()\n"
      ]
    },
    {
      "cell_type": "code",
      "execution_count": null,
      "id": "ba713dab",
      "metadata": {
        "id": "ba713dab"
      },
      "outputs": [],
      "source": [
        "def model(X_train, Y_train, X_test, Y_test, num_iterations = 2000, learning_rate = 0.5, print_cost = False):\n",
        "    \"\"\"\n",
        "    Contruye un modelo de regresión lineal basado en las funciones que implementaste previamente.\n",
        "\n",
        "    Argumentos:\n",
        "    X_train -- Ejemplos de entrenamiento en un arreglo de numpy de dimensiones (num_px * num_px * 3, m_train)\n",
        "    Y_train -- Etiquetas de entrenamiento en un vector de numpy de dimensiones (1, m_train)\n",
        "    X_test -- Conjunto de prueba representado por un arreglo de numpy de dimensiones (num_px * num_px * 3, m_test)\n",
        "    Y_test -- Etiquetas de prueba en un (vector) con dimensiones (1, m_test)\n",
        "    num_iterations -- Número de iteraciones para optimizar los parámetros\n",
        "    learning_rate -- Tasa de aprendizaje usado en la función optimize()\n",
        "    print_cost -- Si es verdadero imprime el costo cada 100 iterations\n",
        "\n",
        "    Salidas:\n",
        "    d -- diccionario con la información del modelo.\n",
        "    \"\"\"\n",
        "\n",
        "    ### Escribe tu código aquí ###\n",
        "\n",
        "    # incializa los parámetros con ceros (≈ 1 línea de código)\n",
        "    w, b =\n",
        "\n",
        "    # Decenso por gradiente (≈ 1 línea de código)\n",
        "    parameters, grads, costs =\n",
        "\n",
        "    # Recupera los valores w y b del dicionario \"parameters\"\n",
        "    w = parameters[\"w\"]\n",
        "    b = parameters[\"b\"]\n",
        "\n",
        "    # Calcula las predicciones para el conjunto de entrenamiento y prueba (train/test) (≈ 2 líneas de código)\n",
        "    Y_prediction_test = \n",
        "    Y_prediction_train = \n",
        "\n",
        "    ### Fin ###\n",
        "\n",
        "    # Imprime train/test errores\n",
        "    print(\"train accuracy: {} %\".format(100 - np.mean(np.abs(Y_prediction_train - Y_train)) * 100))\n",
        "    print(\"test accuracy: {} %\".format(100 - np.mean(np.abs(Y_prediction_test - Y_test)) * 100))\n",
        "\n",
        "\n",
        "    d = {\"costs\": costs,\n",
        "         \"Y_prediction_test\": Y_prediction_test,\n",
        "         \"Y_prediction_train\" : Y_prediction_train,\n",
        "         \"w\" : w,\n",
        "         \"b\" : b,\n",
        "         \"learning_rate\" : learning_rate,\n",
        "         \"num_iterations\": num_iterations}\n",
        "\n",
        "    return d"
      ]
    },
    {
      "cell_type": "markdown",
      "id": "22db618c",
      "metadata": {
        "id": "22db618c"
      },
      "source": [
        "Corre la siguiente línea para entrenar tu modelo"
      ]
    },
    {
      "cell_type": "code",
      "execution_count": 19,
      "id": "59f30fd6",
      "metadata": {
        "colab": {
          "base_uri": "https://localhost:8080/"
        },
        "id": "59f30fd6",
        "outputId": "7252f740-09e6-4064-baab-8b2e3bfee556"
      },
      "outputs": [
        {
          "name": "stdout",
          "output_type": "stream",
          "text": [
            "train accuracy: 99.04306220095694 %\n",
            "test accuracy: 70.0 %\n"
          ]
        }
      ],
      "source": [
        "  d = model(train_set_x, train_set_y, test_set_x, test_set_y, num_iterations = 2000, learning_rate = 0.005, print_cost = True)"
      ]
    },
    {
      "cell_type": "markdown",
      "id": "0cf49206",
      "metadata": {
        "id": "0cf49206"
      },
      "source": [
        "# **Salida esperada**:\n",
        "\n",
        "\n",
        "\n",
        "<table style=\"width:40%\">\n",
        "    <tr>\n",
        "        <td> <b>Cost after iteration 0</b> </td>\n",
        "         <td> 0.693147 </td>\n",
        "    </tr>\n",
        "    <tr>\n",
        "        <td> <center> $\\vdots$ </center> </td>\n",
        "        <td> <center> $\\vdots$ </center> </td>\n",
        "    </tr>\n",
        "    <tr>\n",
        "        <td> <b>Train Accuracy</b>  </td>\n",
        "        <td> 99.04306220095694 % </td>\n",
        "    </tr>\n",
        "    <tr>\n",
        "        <td><b>Test Accuracy</b></td>\n",
        "        <td> 70.0 % </td>\n",
        "    </tr>\n",
        "</table>"
      ]
    },
    {
      "cell_type": "markdown",
      "id": "72b40879",
      "metadata": {
        "id": "72b40879"
      },
      "source": [
        "**Nota** La precisión del entrenamiento es cercana al 100 %. Esto es un buen indicador de que tu modelo funciona y tiene la capacidad suficiente para ajustarse a los datos de entrenamiento. La precisión de la prueba es del 68 %. En realidad, es bastante razonable para un modelo tan simple y dado el pequeño conjunto de datos que usamos y que la regresión logística es un clasificador lineal.\n",
        "\n",
        "Notarás que el modelo claramente está sobreajustando los datos de entrenamiento. Usando el siguiente código y modificando la variable de índice, puedes ver las predicciones en imágenes del conjunto de prueba."
      ]
    },
    {
      "cell_type": "code",
      "execution_count": 20,
      "id": "f2fb236c",
      "metadata": {
        "colab": {
          "base_uri": "https://localhost:8080/",
          "height": 450
        },
        "id": "f2fb236c",
        "outputId": "dca0ce9c-e7b9-4b9f-cdd9-5c25164afb74"
      },
      "outputs": [
        {
          "name": "stdout",
          "output_type": "stream",
          "text": [
            "y = 1, el modelo predice que la imágencat\n"
          ]
        },
        {
          "data": {
            "image/png": "[encoded data removed]",
            "text/plain": [
              "<Figure size 640x480 with 1 Axes>"
            ]
          },
          "metadata": {},
          "output_type": "display_data"
        }
      ],
      "source": [
        "index = 1\n",
        "plt.imshow(test_set_x[:,index].reshape((num_px, num_px, 3)))\n",
        "print (\"y = \" + str(test_set_y[0,index]) +  \", el modelo predice que la imágen\"  + classes[int(d[\"Y_prediction_test\"][0][index])].decode(\"utf-8\"))"
      ]
    },
    {
      "cell_type": "markdown",
      "id": "496e2b67",
      "metadata": {
        "id": "496e2b67"
      },
      "source": [
        "### Gráfica de la evolución de la función de costo"
      ]
    },
    {
      "cell_type": "code",
      "execution_count": 21,
      "id": "9542c54a",
      "metadata": {
        "colab": {
          "base_uri": "https://localhost:8080/",
          "height": 472
        },
        "id": "9542c54a",
        "outputId": "5a1183e4-2e1d-45ad-acc0-5683daff5a14"
      },
      "outputs": [
        {
          "data": {
            "image/png": "[encoded data removed]",
            "text/plain": [
              "<Figure size 640x480 with 1 Axes>"
            ]
          },
          "metadata": {},
          "output_type": "display_data"
        }
      ],
      "source": [
        "costs = np.squeeze(d['costs'])\n",
        "plt.plot(costs)\n",
        "plt.ylabel('costo')\n",
        "plt.xlabel('Iteraciones (cada 100)')\n",
        "plt.title(\"Tasa de aprendizaje =\" + str(d[\"learning_rate\"]))\n",
        "plt.show()"
      ]
    },
    {
      "cell_type": "markdown",
      "id": "3f123b8d",
      "metadata": {
        "id": "3f123b8d"
      },
      "source": [
        "**Interpretación**:\n",
        "Puedes ver una disminución del costo. Esto demuestra que se están aprendiendo los parámetros. Sin embargo, se observa que se podría entrenar el modelo aún más con el conjunto de entrenamiento. Intenta aumentar el número de iteraciones en la celda anterior y vuelva a ejecutar las celdas. Puedes observar que la precisión del conjunto de entrenamiento aumenta, pero la del conjunto de prueba disminuye. Esto se denomina sobreajuste."
      ]
    },
    {
      "cell_type": "markdown",
      "id": "713631ec",
      "metadata": {
        "id": "713631ec"
      },
      "source": [
        "## Análisis de los resultados\n",
        "\n",
        "Para que el descenso por gradiente funcione, es necesario elegir la tasa de aprendizaje con cuidado. La tasa de aprendizaje $\\alpha$ determina la rapidez con la que actualizamos los parámetros. Si la tasa de aprendizaje es demasiado alta, podríamos sobrepasar el valor óptimo. De igual manera, si es demasiado baja, necesitaremos demasiadas iteraciones para converger a los mejores valores. Por eso muy importante usar una tasa de aprendizaje bien ajustada.\n",
        "\n",
        "Comparemos la curva de aprendizaje de nuestro modelo con varias opciones de tasas de aprendizaje. Ejecuta la siguiente celda. Esto toma aproximadamente 1 minuto. También puede probar con valores diferentes a los que usamos para inicializar la variable `learning_rates` y observa qué sucede."
      ]
    },
    {
      "cell_type": "code",
      "execution_count": 22,
      "id": "aaa6ad66",
      "metadata": {
        "colab": {
          "base_uri": "https://localhost:8080/",
          "height": 781
        },
        "id": "aaa6ad66",
        "outputId": "a87a7819-e37a-4426-adce-c01cbf2bcd04"
      },
      "outputs": [
        {
          "name": "stdout",
          "output_type": "stream",
          "text": [
            "learning rate is: 0.01\n",
            "train accuracy: 99.52153110047847 %\n",
            "test accuracy: 70.0 %\n",
            "\n",
            "-------------------------------------------------------\n",
            "\n",
            "learning rate is: 0.001\n",
            "train accuracy: 88.99521531100478 %\n",
            "test accuracy: 66.0 %\n",
            "\n",
            "-------------------------------------------------------\n",
            "\n",
            "learning rate is: 0.0001\n",
            "train accuracy: 66.98564593301435 %\n",
            "test accuracy: 36.0 %\n",
            "\n",
            "-------------------------------------------------------\n",
            "\n"
          ]
        },
        {
          "data": {
            "image/png": "[encoded data removed]",
            "text/plain": [
              "<Figure size 640x480 with 1 Axes>"
            ]
          },
          "metadata": {},
          "output_type": "display_data"
        }
      ],
      "source": [
        "learning_rates = [0.01, 0.001, 0.0001]\n",
        "models = {}\n",
        "for i in learning_rates:\n",
        "    print (\"learning rate is: \" + str(i))\n",
        "    models[str(i)] = model(train_set_x, train_set_y, test_set_x, test_set_y, num_iterations = 1500, learning_rate = i, print_cost = False)\n",
        "    print ('\\n' + \"-------------------------------------------------------\" + '\\n')\n",
        "\n",
        "for i in learning_rates:\n",
        "    plt.plot(np.squeeze(models[str(i)][\"costs\"]), label= str(models[str(i)][\"learning_rate\"]))\n",
        "\n",
        "plt.ylabel('cost')\n",
        "plt.xlabel('iterations (hundreds)')\n",
        "\n",
        "legend = plt.legend(loc='upper center', shadow=True)\n",
        "frame = legend.get_frame()\n",
        "frame.set_facecolor('0.90')\n",
        "plt.show()"
      ]
    },
    {
      "cell_type": "markdown",
      "id": "d2b11b24",
      "metadata": {
        "id": "d2b11b24"
      },
      "source": [
        "**Interpretación**\n",
        "Diferentes tasas de aprendizaje generan costos diferentes y, por lo tanto, predicciones diferentes.\n",
        "\n",
        "Si la tasa de aprendizaje es demasiado alta (0,01), el costo puede oscilar e incluso puede divergir (en este ejemplo, usar 0,01 resulta ser un buen valor para el costo).\n",
        "\n",
        "Un costo menor no implica un mejor modelo. Debes verificar si existe un posible sobreajuste, esto ocurre cuando la precisión del entrenamiento es mucho mayor que la precisión de la prueba.\n",
        "\n",
        "En aprendizaje profundo, se recomienda:\n",
        "\n",
        "Elegir la tasa de aprendizaje que minimice mejor la función de costo.\n"
      ]
    },
    {
      "cell_type": "markdown",
      "id": "ce18d97e",
      "metadata": {
        "id": "ce18d97e"
      },
      "source": [
        "## Prueba tu propia imagen\n",
        "Puedes probar tu modelo con alguna imagen propia o de Internet para verificar que tal clasifica imágenes que no ha visto previamente. Ten en cuenta que las imagen tendrá que ser submuestreada.\n"
      ]
    },
    {
      "cell_type": "code",
      "execution_count": null,
      "id": "34cdce5d",
      "metadata": {
        "colab": {
          "base_uri": "https://localhost:8080/",
          "height": 450
        },
        "id": "34cdce5d",
        "outputId": "f29556db-3a67-4f5a-ec56-313b84c87daf"
      },
      "outputs": [
        {
          "name": "stdout",
          "output_type": "stream",
          "text": [
            "y = 0.0, el algoritmo predice que la imagen es \"non-cat\".\n"
          ]
        },
        {
          "data": {
            "image/png": "[encoded data removed]",
            "text/plain": [
              "<Figure size 640x480 with 1 Axes>"
            ]
          },
          "metadata": {},
          "output_type": "display_data"
        }
      ],
      "source": [
        "## Escribe tu código aquí ## (escribe el nombre de tu imagen)\n",
        "my_image = \"\"   # cambia el nombre del archivo\n",
        "## Fin ##\n",
        "\n",
        "# Procesa tu imagen.\n",
        "fname = \"images/\" + my_image\n",
        "\n",
        "image = np.array(Image.open('/content/drive/MyDrive/AI_notebooks/images/momo8.jpg').resize((num_px,num_px)))\n",
        "image = image/255.\n",
        "my_image = image.reshape((1, num_px*num_px*3)).T\n",
        "my_predicted_image = predict(d[\"w\"], d[\"b\"], my_image)\n",
        "\n",
        "plt.imshow(image)\n",
        "print(\"y = \" + str(np.squeeze(my_predicted_image)) + \", el algoritmo predice que la imagen es \\\"\" + classes[int(np.squeeze(my_predicted_image)),].decode(\"utf-8\") +  \"\\\".\")"
      ]
    },
    {
      "cell_type": "code",
      "execution_count": null,
      "id": "6e16ecfe",
      "metadata": {
        "id": "6e16ecfe"
      },
      "outputs": [],
      "source": []
    }
  ],
  "metadata": {
    "colab": {
      "provenance": []
    },
    "kernelspec": {
      "display_name": "Python 3",
      "name": "python3"
    },
    "language_info": {
      "name": "python"
    }
  },
  "nbformat": 4,
  "nbformat_minor": 5
}
